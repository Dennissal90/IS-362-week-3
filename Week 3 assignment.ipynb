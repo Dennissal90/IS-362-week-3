{
 "cells": [
  {
   "cell_type": "markdown",
   "id": "689af9f6",
   "metadata": {},
   "source": [
    "**NYC to Key West Bike Trip - Cumulative and Daily Miles**\n",
    "\n",
    "**Introduction:**\n",
    "\n",
    "This notebook calculates the cumulative and daily miles ridden during a bicycle trip from the Queens Center Mall in Queens, New York City to the Southernmost Point Buoy in Key West, Florida, covering a total of 1,693 miles. The task requires me to:\n",
    "\n",
    "- Log the cumulative miles at the end of each day.\n",
    "- Use Python and the pandas library to display the cumulative miles and daily miles ridden.\n",
    "- The first two days are provided as examples:\n",
    "\n",
    "Day 1: 55 miles\n",
    "Day 2: 120 miles (cumulative).\n",
    "I'll calculate the remaining daily and cumulative miles for the rest of the trip using realistic values based on a blog reference where daily rides ranged from 80 to 140 miles.\n",
    "\n",
    "(this is the blog that is being used as a reference https://bikewalkcentralflorida.org/halfway-maine-florida-bike-trip/)"
   ]
  },
  {
   "cell_type": "markdown",
   "id": "23d6267b",
   "metadata": {},
   "source": [
    "**Step 1: Import Libraries**\n",
    "\n",
    "I first will import the required Libraries, and that being pandas as required by the assignment."
   ]
  },
  {
   "cell_type": "code",
   "execution_count": 2,
   "id": "384349c3",
   "metadata": {},
   "outputs": [
    {
     "data": {
      "text/plain": [
       "'2.0.3'"
      ]
     },
     "execution_count": 2,
     "metadata": {},
     "output_type": "execute_result"
    }
   ],
   "source": [
    "import pandas as pd\n",
    "pd.__version__ "
   ]
  },
  {
   "cell_type": "markdown",
   "id": "74c3fbae",
   "metadata": {},
   "source": [
    "**Step 2: Initial Cumulative Miles**\n",
    "\n",
    "I was provided the cumulative miles for the first two days:\n",
    "\n",
    "- Day 1: 55 miles\n",
    "- Day 2: 120 miles (65 miles rode)\n",
    "\n",
    "I stored these values in a list to begin my calculations."
   ]
  },
  {
   "cell_type": "code",
   "execution_count": 4,
   "id": "3c4d2905",
   "metadata": {},
   "outputs": [],
   "source": [
    "# Cumulative miles for the first 2 days as provided\n",
    "cumulative_miles = [55, 120]"
   ]
  },
  {
   "cell_type": "markdown",
   "id": "5198ded8",
   "metadata": {},
   "source": [
    "I then calculate how many more miles are left to cover after the first two days.\n",
    "The total distance is 1,693 miles, so the remaining distance after Day 2 is:"
   ]
  },
  {
   "cell_type": "code",
   "execution_count": 5,
   "id": "2be4226a",
   "metadata": {},
   "outputs": [],
   "source": [
    "remaining_miles = 1693 - 120  # Remaining miles to cover: 1,573 miles"
   ]
  },
  {
   "cell_type": "markdown",
   "id": "22c6ca5a",
   "metadata": {},
   "source": [
    "**Step 3: Define Realistic Daily Miles**\n",
    "\n",
    "Using the blog reference where daily rides ranged from 80 to 140 miles, I define realistic daily miles for the rest of the trip. The total distance to be covered after the first two days is 1,573 miles, spread across 13 more days. \n",
    "\n",
    "*Do note that I simply selected random numbers that would accumilate to the full ammout of 1693 miles with the first 2 days provided.*"
   ]
  },
  {
   "cell_type": "code",
   "execution_count": 6,
   "id": "290eb745",
   "metadata": {},
   "outputs": [],
   "source": [
    "# Daily miles for the remaining days, realistically ranging from 80 to 140 miles\n",
    "daily_miles_remaining = [110, 120, 95, 130, 115, 85, 120, 100, 130, 95, 125, 115]"
   ]
  },
  {
   "cell_type": "markdown",
   "id": "ab84568e",
   "metadata": {},
   "source": [
    "**Step 4: Create a pandas Series for Cumulative Miles**\n",
    "\n",
    "I created a pandas Series to store the cumulative miles ridden each day. I loop the daily_miles_remaining list to add the daily miles to the cumulative total for the next days"
   ]
  },
  {
   "cell_type": "code",
   "execution_count": 7,
   "id": "52287b89",
   "metadata": {},
   "outputs": [],
   "source": [
    "# Add the daily miles to the cumulative total for the remaining days\n",
    "for miles in daily_miles_remaining:\n",
    "    cumulative_miles.append(cumulative_miles[-1] + miles)"
   ]
  },
  {
   "cell_type": "markdown",
   "id": "c47b9453",
   "metadata": {},
   "source": [
    "After calculating the cumulative miles for 13 more days, I calculate the remaining distance needed to reach exactly 1,693 miles on the last day."
   ]
  },
  {
   "cell_type": "code",
   "execution_count": 8,
   "id": "6f200a4c",
   "metadata": {},
   "outputs": [],
   "source": [
    "remaining_to_1693 = 1693 - cumulative_miles[-1]\n",
    "cumulative_miles.append(cumulative_miles[-1] + remaining_to_1693)"
   ]
  },
  {
   "cell_type": "markdown",
   "id": "76ac5674",
   "metadata": {},
   "source": [
    "I create a pandas Series to store the cumulative miles ridden each day, indexed by \"Day\"."
   ]
  },
  {
   "cell_type": "code",
   "execution_count": 9,
   "id": "79544206",
   "metadata": {},
   "outputs": [
    {
     "data": {
      "text/plain": [
       "Day 1       55\n",
       "Day 2      120\n",
       "Day 3      230\n",
       "Day 4      350\n",
       "Day 5      445\n",
       "Day 6      575\n",
       "Day 7      690\n",
       "Day 8      775\n",
       "Day 9      895\n",
       "Day 10     995\n",
       "Day 11    1125\n",
       "Day 12    1220\n",
       "Day 13    1345\n",
       "Day 14    1460\n",
       "Day 15    1693\n",
       "dtype: int64"
      ]
     },
     "execution_count": 9,
     "metadata": {},
     "output_type": "execute_result"
    }
   ],
   "source": [
    "# Create a pandas Series to hold the cumulative miles\n",
    "miles_series = pd.Series(cumulative_miles, index=[f'Day {i+1}' for i in range(len(cumulative_miles))])\n",
    "\n",
    "# Display the cumulative miles for each day\n",
    "miles_series"
   ]
  },
  {
   "cell_type": "markdown",
   "id": "00a93516",
   "metadata": {},
   "source": [
    "**Step 5: Calculate Daily Miles**\n",
    "\n",
    "Next, I calculate the daily miles ridden by taking the difference between consecutive cumulative totals using pandas.Series.diff()."
   ]
  },
  {
   "cell_type": "code",
   "execution_count": 10,
   "id": "2ab8db79",
   "metadata": {},
   "outputs": [
    {
     "data": {
      "text/plain": [
       "Day 1      55.0\n",
       "Day 2      65.0\n",
       "Day 3     110.0\n",
       "Day 4     120.0\n",
       "Day 5      95.0\n",
       "Day 6     130.0\n",
       "Day 7     115.0\n",
       "Day 8      85.0\n",
       "Day 9     120.0\n",
       "Day 10    100.0\n",
       "Day 11    130.0\n",
       "Day 12     95.0\n",
       "Day 13    125.0\n",
       "Day 14    115.0\n",
       "Day 15    233.0\n",
       "dtype: float64"
      ]
     },
     "execution_count": 10,
     "metadata": {},
     "output_type": "execute_result"
    }
   ],
   "source": [
    "# Calculate daily miles ridden by taking the difference between consecutive days\n",
    "daily_miles = miles_series.diff().fillna(miles_series[0])\n",
    "\n",
    "# Display daily miles ridden each day\n",
    "daily_miles"
   ]
  },
  {
   "cell_type": "markdown",
   "id": "9697cdb6",
   "metadata": {},
   "source": [
    "**Conclusion**\n",
    "\n",
    "With this approach, I successfully calculated both the cumulative miles and the daily miles for each day of the trip. The total distance covered is 1,693 miles, with the final day dynamically adjusted to ensure the total is accurate."
   ]
  },
  {
   "cell_type": "code",
   "execution_count": 11,
   "id": "f81f9ec2",
   "metadata": {},
   "outputs": [
    {
     "name": "stdout",
     "output_type": "stream",
     "text": [
      "Cumulative Miles:\n",
      "Day 1       55\n",
      "Day 2      120\n",
      "Day 3      230\n",
      "Day 4      350\n",
      "Day 5      445\n",
      "Day 6      575\n",
      "Day 7      690\n",
      "Day 8      775\n",
      "Day 9      895\n",
      "Day 10     995\n",
      "Day 11    1125\n",
      "Day 12    1220\n",
      "Day 13    1345\n",
      "Day 14    1460\n",
      "Day 15    1693\n",
      "dtype: int64\n",
      "\n",
      "Daily Miles:\n",
      "Day 1      55.0\n",
      "Day 2      65.0\n",
      "Day 3     110.0\n",
      "Day 4     120.0\n",
      "Day 5      95.0\n",
      "Day 6     130.0\n",
      "Day 7     115.0\n",
      "Day 8      85.0\n",
      "Day 9     120.0\n",
      "Day 10    100.0\n",
      "Day 11    130.0\n",
      "Day 12     95.0\n",
      "Day 13    125.0\n",
      "Day 14    115.0\n",
      "Day 15    233.0\n",
      "dtype: float64\n",
      "\n",
      "Total miles: 1693\n"
     ]
    }
   ],
   "source": [
    "import pandas as pd\n",
    "\n",
    "cumulative_miles = [55, 120]\n",
    "remaining_miles = 1693 - 120\n",
    "daily_miles_remaining = [110, 120, 95, 130, 115, 85, 120, 100, 130, 95, 125, 115]\n",
    "for miles in daily_miles_remaining:\n",
    "    cumulative_miles.append(cumulative_miles[-1] + miles)\n",
    "remaining_to_1693 = 1693 - cumulative_miles[-1]\n",
    "cumulative_miles.append(cumulative_miles[-1] + remaining_to_1693)\n",
    "miles_series = pd.Series(cumulative_miles, index=[f'Day {i+1}' for i in range(len(cumulative_miles))])\n",
    "print(\"Cumulative Miles:\")\n",
    "print(miles_series)\n",
    "\n",
    "daily_miles = miles_series.diff().fillna(miles_series[0])\n",
    "\n",
    "print(\"\\nDaily Miles:\")\n",
    "print(daily_miles)\n",
    "\n",
    "print(f\"\\nTotal miles: {miles_series.iloc[-1]}\")"
   ]
  },
  {
   "cell_type": "code",
   "execution_count": null,
   "id": "4545467b",
   "metadata": {},
   "outputs": [],
   "source": []
  }
 ],
 "metadata": {
  "kernelspec": {
   "display_name": "Python 3 (ipykernel)",
   "language": "python",
   "name": "python3"
  },
  "language_info": {
   "codemirror_mode": {
    "name": "ipython",
    "version": 3
   },
   "file_extension": ".py",
   "mimetype": "text/x-python",
   "name": "python",
   "nbconvert_exporter": "python",
   "pygments_lexer": "ipython3",
   "version": "3.11.5"
  }
 },
 "nbformat": 4,
 "nbformat_minor": 5
}
